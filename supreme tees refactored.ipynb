{
 "cells": [
  {
   "cell_type": "code",
   "execution_count": 1,
   "metadata": {},
   "outputs": [],
   "source": [
    "import requests\n",
    "import json\n",
    "import threading\n",
    "import csv\n",
    "from datetime import datetime\n",
    "import time\n",
    "import re\n",
    "\n",
    "from pyquery import PyQuery as pq\n",
    "\n",
    "from requests.packages.urllib3.exceptions import InsecureRequestWarning\n",
    "requests.packages.urllib3.disable_warnings(InsecureRequestWarning)\n",
    "\n",
    "def log(t):\n",
    "    ts = datetime.now().strftime('%H:%M:%S')\n",
    "    print('{} :: {}'.format(ts, t))"
   ]
  },
  {
   "cell_type": "code",
   "execution_count": 2,
   "metadata": {},
   "outputs": [],
   "source": [
    "SPRING_SUMMER = 'spring-summer'\n",
    "FALL_WINTER = 'fall-winter'\n",
    "SEASON_TEMPLATE = 'https://www.supremecommunity.com/season/{}{}/droplists/'\n",
    "\n",
    "USER_AGENT_1 = 'Mozilla/5.0 (Macintosh; Intel Mac OS X 10_13_6) AppleWebKit/537.36 (KHTML, like Gecko) Chrome/68.0.3440.106 Safari/537.36'\n",
    "USER_AGENT_2 = 'Mozilla/5.0 (Windows NT 10.0; Win64; x64) AppleWebKit/537.36 (KHTML, like Gecko) Chrome/83.0.4103.116 Safari/537.36'\n",
    "USER_AGENT_3 = 'Mozilla/5.0 (Macintosh; Intel Mac OS X 10_14_4) AppleWebKit/605.1.15 (KHTML, like Gecko)'\n",
    "USER_AGENT_4 = 'Mozilla/5.0 (iPad; CPU OS 9_3_5 like Mac OS X) AppleWebKit/601.1.46 (KHTML, like Gecko) Mobile/13G36'\n",
    "USER_AGENT_5 = 'Mozilla/5.0 (iPhone; CPU iPhone OS 13_4_1 like Mac OS X) AppleWebKit/605.1.15 (KHTML, like Gecko) Version/13.1 Mobile/15E148 Safari/604.1'\n",
    "\n",
    "def cut_last_six(s):\n",
    "    return s[:-6]\n",
    "\n",
    "def sc_to_stockx_name(sc):\n",
    "    sc = sc.replace(' ', '-')\n",
    "    sc = sc.replace('L/S', 'ls')\n",
    "    sc = sc.replace('/', '-')\n",
    "    sc = sc.replace('™', '-')\n",
    "    sc = sc.replace('®', '-')\n",
    "    sc = sc.replace('&', '-')\n",
    "    sc = sc.replace('+', '-')\n",
    "    sc = sc.replace('\"', '')\n",
    "    sc = sc.replace('--', '-')\n",
    "    sc = sc.replace('.','')\n",
    "    sc = sc.replace('Supreme', '')\n",
    "    sc = 'supreme-' + sc + '-black'\n",
    "    sc = sc.replace('--', '-')\n",
    "    return sc"
   ]
  },
  {
   "cell_type": "code",
   "execution_count": null,
   "metadata": {},
   "outputs": [],
   "source": []
  }
 ],
 "metadata": {
  "kernelspec": {
   "display_name": "Python 3",
   "language": "python",
   "name": "python3"
  },
  "language_info": {
   "codemirror_mode": {
    "name": "ipython",
    "version": 3
   },
   "file_extension": ".py",
   "mimetype": "text/x-python",
   "name": "python",
   "nbconvert_exporter": "python",
   "pygments_lexer": "ipython3",
   "version": "3.7.0"
  }
 },
 "nbformat": 4,
 "nbformat_minor": 2
}
